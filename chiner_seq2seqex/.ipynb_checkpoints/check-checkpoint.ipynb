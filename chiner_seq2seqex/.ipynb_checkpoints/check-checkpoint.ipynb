{
 "cells": [
  {
   "cell_type": "code",
   "execution_count": 57,
   "metadata": {},
   "outputs": [],
   "source": [
    "#!/usr/bin/env python\n",
    "\n",
    "from __future__ import unicode_literals\n",
    "\n",
    "import argparse\n",
    "import collections\n",
    "import io\n",
    "import re\n",
    "\n",
    "split_pattern = re.compile(r'([.,!?\"\\':;)(])')\n",
    "digit_pattern = re.compile(r'\\d')\n",
    "\n",
    "'''\n",
    "input)  My name is \"ttakano        \"  and I was born in 1994\n",
    "output) [\"my\", \"name\", \"is\", \"\"\", \"ttakano\", \"\"\", \"and\", \"i\", \"was\", \"born\", \"in\", \"0000\"\n",
    "'''\n",
    "def split_sentence(s, use_lower):\n",
    "    if use_lower:\n",
    "        s = s.lower()\n",
    "    s = s.replace('\\u2019', \"'\")        #      ’→'\n",
    "    s = digit_pattern.sub('0', s)        #[0-9] → \"0\"\n",
    "    words = []\n",
    "    for word in s.strip().split():\n",
    "        words.extend(split_pattern.split(word))         # if word=\"(ttakano)\"  words=[\"(\", \"ttakano\", \")\"]\n",
    "    words = [w for w in words if w]\n",
    "    return words\n",
    "\n",
    "\n"
   ]
  },
  {
   "cell_type": "code",
   "execution_count": 58,
   "metadata": {},
   "outputs": [],
   "source": [
    "def count_lines(path):\n",
    "    with io.open(path, encoding='utf-8', errors='ignore') as f:\n",
    "        return sum([1 for _ in f])"
   ]
  },
  {
   "cell_type": "code",
   "execution_count": 59,
   "metadata": {
    "collapsed": true
   },
   "outputs": [],
   "source": [
    "def read_file(path, use_lower):\n",
    "    n_lines = count_lines(path)\n",
    "    with io.open(path, encoding='utf-8', errors='ignore') as f:\n",
    "        for line in f:\n",
    "            words = split_sentence(line, use_lower)\n",
    "            yield words\n"
   ]
  },
  {
   "cell_type": "code",
   "execution_count": 60,
   "metadata": {
    "collapsed": true
   },
   "outputs": [],
   "source": [
    "def proc_dataset(\n",
    "        path, outpath, vocab_path=None, vocab_size=None, use_lower=True):\n",
    "    token_count = 0\n",
    "    counts = collections.Counter()\n",
    "    with io.open(outpath, 'w', encoding='utf-8') as f:\n",
    "        for words in read_file(path, use_lower):\n",
    "            line = ' '.join(words)\n",
    "            f.write(line)\n",
    "            f.write('\\n')\n",
    "            if vocab_path:\n",
    "                for word in words:\n",
    "                    counts[word] += 1\n",
    "            token_count += len(words)\n",
    "    print('number of tokens: %d' % token_count)\n",
    "\n",
    "    if vocab_path and vocab_size:\n",
    "        vocab = [word for (word, _) in counts.most_common(vocab_size)]\n",
    "        with io.open(vocab_path, 'w', encoding='utf-8') as f:\n",
    "            for word in vocab:\n",
    "                f.write(word)\n",
    "                f.write('\\n')\n",
    "\n",
    "    return counts\n"
   ]
  },
  {
   "cell_type": "code",
   "execution_count": 70,
   "metadata": {
    "collapsed": true
   },
   "outputs": [],
   "source": [
    "%matplotlib inline\n",
    "import matplotlib.pyplot as plt\n",
    "\n",
    "def show_graph(counts):\n",
    "    list_word=counts.most_common(40000)\n",
    "    counts = list(zip(*list_word))[1]\n",
    "    plt.hist(\n",
    "        counts,\n",
    "        bins=100,\n",
    "        range=(1, 100))\n",
    "\n",
    "    plt.xlim(xmin=1, xmax=100)\n",
    "    plt.ylim(ymin=1, ymax=5000)\n",
    "    plt.grid(axis='y')\n",
    "    plt.show()\n"
   ]
  },
  {
   "cell_type": "code",
   "execution_count": 62,
   "metadata": {},
   "outputs": [
    {
     "name": "stdout",
     "output_type": "stream",
     "text": [
      "number of tokens: 11767864\n"
     ]
    }
   ],
   "source": [
    "INPUT=\"../dataset/ncKyotoAll.en\"\n",
    "OUTPUT=\"./dataset/pncKyotoAll.en\"\n",
    "vocab_file=\"./dataset/vocab.en\"\n",
    "couts = proc_dataset(\n",
    "    INPUT, OUTPUT, vocab_path=vocab_file,\n",
    "    vocab_size=40000, use_lower=True)"
   ]
  },
  {
   "cell_type": "code",
   "execution_count": 71,
   "metadata": {},
   "outputs": [
    {
     "data": {
      "image/png": "[encoded data removed]",
      "text/plain": [
       "<matplotlib.figure.Figure at 0x7f602e33d898>"
      ]
     },
     "metadata": {},
     "output_type": "display_data"
    }
   ],
   "source": [
    "show_graph(couts)"
   ]
  },
  {
   "cell_type": "code",
   "execution_count": 78,
   "metadata": {
    "scrolled": true
   },
   "outputs": [
    {
     "name": "stdout",
     "output_type": "stream",
     "text": [
      "the,739268\n",
      ",,606256\n",
      "of,430660\n",
      ".,387446\n",
      "and,288272\n",
      "in,261908\n",
      "(,256216\n",
      "),255774\n",
      "to,213518\n",
      "a,201339\n",
      "was,172344\n",
      "',161437\n",
      "is,103372\n",
      "as,102543\n",
      "\",95537\n",
      "he,81737\n",
      "0000,78747\n",
      "that,71889\n",
      "by,68942\n",
      "it,66046\n",
      "no,64995\n",
      "on,64300\n",
      "for,63877\n",
      "his,58048\n",
      "with,55667\n",
      "from,52436\n",
      "s,46137\n",
      "at,43403\n",
      "00,43068\n",
      "were,42851\n",
      "which,39486\n",
      "who,36015\n",
      "this,32886\n",
      "an,32704\n",
      "period,32176\n",
      "are,31943\n",
      "or,30359\n",
      ":,29704\n",
      "emperor,29117\n",
      "family,28397\n",
      "temple,28100\n",
      "be,26769\n",
      "after,26303\n",
      "0,26091\n",
      "also,25963\n",
      "000,25376\n",
      "kyoto,24698\n",
      "but,24567\n",
      "had,24489\n",
      "imperial,24418\n",
      "clan,23029\n",
      "not,22956\n",
      "there,21279\n",
      "japan,20882\n",
      "province,20735\n",
      "japanese,20413\n",
      "when,19903\n",
      "city,19858\n",
      "called,19856\n",
      "one,19490\n",
      "became,18713\n",
      "name,17627\n",
      "such,16926\n",
      "station,16683\n",
      ";,16430\n",
      "however,16324\n",
      "they,16079\n",
      "been,16017\n",
      "prefecture,15691\n",
      "used,15675\n",
      "have,15176\n",
      "during,14910\n",
      "time,14048\n",
      "-,13745\n",
      "other,13541\n",
      "their,13512\n",
      "first,13491\n",
      "court,13358\n",
      "shrine,12956\n",
      "rank,12917\n",
      "government,12893\n",
      "into,12529\n",
      "son,12346\n",
      "made,12151\n",
      "its,11920\n",
      "people,11914\n",
      "because,11802\n",
      "school,11796\n",
      "has,11756\n",
      "line,11704\n",
      "year,11620\n",
      "edo,11588\n",
      "prince,11525\n",
      "later,11384\n",
      "said,11124\n",
      "so,10965\n",
      "castle,10641\n",
      "fujiwara,10063\n",
      "between,9956\n",
      "some,9937\n"
     ]
    }
   ],
   "source": [
    "for word, count in couts.most_common(100):\n",
    "    print(\"{0},{1}\".format(word,count))"
   ]
  },
  {
   "cell_type": "code",
   "execution_count": null,
   "metadata": {
    "collapsed": true
   },
   "outputs": [],
   "source": []
  }
 ],
 "metadata": {
  "kernelspec": {
   "display_name": "Python 3",
   "language": "python",
   "name": "python3"
  },
  "language_info": {
   "codemirror_mode": {
    "name": "ipython",
    "version": 3
   },
   "file_extension": ".py",
   "mimetype": "text/x-python",
   "name": "python",
   "nbconvert_exporter": "python",
   "pygments_lexer": "ipython3",
   "version": "3.6.1"
  }
 },
 "nbformat": 4,
 "nbformat_minor": 2
}
