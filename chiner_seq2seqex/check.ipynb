{
 "cells": [
  {
   "cell_type": "code",
   "execution_count": 3,
   "metadata": {
    "collapsed": true
   },
   "outputs": [],
   "source": [
    "#!/usr/bin/env python\n",
    "\n",
    "from __future__ import unicode_literals\n",
    "\n",
    "import argparse\n",
    "import collections\n",
    "import io\n",
    "import re\n",
    "\n",
    "split_pattern = re.compile(r'([.,!?\"\\':;)(])')\n",
    "digit_pattern = re.compile(r'\\d')\n",
    "\n",
    "'''\n",
    "input)  My name is \"ttakano        \"  and I was born in 1994\n",
    "output) [\"my\", \"name\", \"is\", \"\"\", \"ttakano\", \"\"\", \"and\", \"i\", \"was\", \"born\", \"in\", \"0000\"\n",
    "'''\n",
    "def split_sentence(s, use_lower):\n",
    "    if use_lower:\n",
    "        s = s.lower()\n",
    "    s = s.replace('\\u2019', \"'\")        #      ’→'\n",
    "    s = digit_pattern.sub('0', s)        #[0-9] → \"0\"\n",
    "    words = []\n",
    "    for word in s.strip().split():\n",
    "        words.extend(split_pattern.split(word))         # if word=\"(ttakano)\"  words=[\"(\", \"ttakano\", \")\"]\n",
    "    words = [w for w in words if w]\n",
    "    return words\n",
    "\n",
    "\n"
   ]
  },
  {
   "cell_type": "code",
   "execution_count": 4,
   "metadata": {
    "collapsed": true
   },
   "outputs": [],
   "source": [
    "def count_lines(path):\n",
    "    with io.open(path, encoding='utf-8', errors='ignore') as f:\n",
    "        return sum([1 for _ in f])"
   ]
  },
  {
   "cell_type": "code",
   "execution_count": 5,
   "metadata": {
    "collapsed": true
   },
   "outputs": [],
   "source": [
    "def read_file(path, use_lower):\n",
    "    n_lines = count_lines(path)\n",
    "    with io.open(path, encoding='utf-8', errors='ignore') as f:\n",
    "        for line in f:\n",
    "            words = split_sentence(line, use_lower)\n",
    "            yield words\n"
   ]
  },
  {
   "cell_type": "code",
   "execution_count": 6,
   "metadata": {
    "collapsed": true
   },
   "outputs": [],
   "source": [
    "def proc_dataset(\n",
    "        path, outpath, vocab_path=None, vocab_size=None, use_lower=True):\n",
    "    token_count = 0\n",
    "    counts = collections.Counter()\n",
    "    with io.open(outpath, 'w', encoding='utf-8') as f:\n",
    "        for words in read_file(path, use_lower):\n",
    "            line = ' '.join(words)\n",
    "            f.write(line)\n",
    "            f.write('\\n')\n",
    "            if vocab_path:\n",
    "                for word in words:\n",
    "                    counts[word] += 1\n",
    "            token_count += len(words)\n",
    "    print('number of tokens: %d' % token_count)\n",
    "\n",
    "    if vocab_path and vocab_size:\n",
    "        vocab = [word for (word, _) in counts.most_common(vocab_size)]\n",
    "        with io.open(vocab_path, 'w', encoding='utf-8') as f:\n",
    "            for word in vocab:\n",
    "                f.write(word)\n",
    "                f.write('\\n')\n",
    "\n",
    "    return counts\n"
   ]
  },
  {
   "cell_type": "code",
   "execution_count": 7,
   "metadata": {
    "collapsed": true
   },
   "outputs": [],
   "source": [
    "%matplotlib inline\n",
    "import matplotlib.pyplot as plt\n",
    "\n",
    "def show_graph(counts):\n",
    "    list_word=counts.most_common(40000)\n",
    "    counts = list(zip(*list_word))[1]\n",
    "    plt.hist(\n",
    "        counts,\n",
    "        bins=100,\n",
    "        range=(1, 100))\n",
    "\n",
    "    plt.xlim(xmin=1, xmax=100)\n",
    "    plt.ylim(ymin=1, ymax=5000)\n",
    "    plt.grid(axis='y')\n",
    "    plt.show()\n"
   ]
  },
  {
   "cell_type": "code",
   "execution_count": 8,
   "metadata": {},
   "outputs": [
    {
     "name": "stdout",
     "output_type": "stream",
     "text": [
      "number of tokens: 11767864\n"
     ]
    }
   ],
   "source": [
    "INPUT=\"../dataset/ncKyotoAll.en\"\n",
    "OUTPUT=\"./dataset/pncKyotoAll.en\"\n",
    "vocab_file=\"./dataset/vocab.en\"\n",
    "couts = proc_dataset(\n",
    "    INPUT, OUTPUT, vocab_path=vocab_file,\n",
    "    vocab_size=40000, use_lower=True)"
   ]
  },
  {
   "cell_type": "code",
   "execution_count": 9,
   "metadata": {},
   "outputs": [
    {
     "data": {
      "image/png": "[encoded data removed]",
      "text/plain": [
       "<matplotlib.figure.Figure at 0x7f546829f390>"
      ]
     },
     "metadata": {},
     "output_type": "display_data"
    }
   ],
   "source": [
    "show_graph(couts)"
   ]
  },
  {
   "cell_type": "code",
   "execution_count": 15,
   "metadata": {
    "scrolled": true
   },
   "outputs": [
    {
     "name": "stdout",
     "output_type": "stream",
     "text": [
      "0 the,739268\n",
      "1 ,,606256\n",
      "2 of,430660\n",
      "3 .,387446\n",
      "4 and,288272\n",
      "5 in,261908\n",
      "6 (,256216\n",
      "7 ),255774\n",
      "8 to,213518\n",
      "9 a,201339\n",
      "10 was,172344\n",
      "11 ',161437\n",
      "12 is,103372\n",
      "13 as,102543\n",
      "14 \",95537\n",
      "15 he,81737\n",
      "16 0000,78747\n",
      "17 that,71889\n",
      "18 by,68942\n",
      "19 it,66046\n",
      "20 no,64995\n",
      "21 on,64300\n",
      "22 for,63877\n",
      "23 his,58048\n",
      "24 with,55667\n",
      "25 from,52436\n",
      "26 s,46137\n",
      "27 at,43403\n",
      "28 00,43068\n",
      "29 were,42851\n",
      "30 which,39486\n",
      "31 who,36015\n",
      "32 this,32886\n",
      "33 an,32704\n",
      "34 period,32176\n",
      "35 are,31943\n",
      "36 or,30359\n",
      "37 :,29704\n",
      "38 emperor,29117\n",
      "39 family,28397\n",
      "40 temple,28100\n",
      "41 be,26769\n",
      "42 after,26303\n",
      "43 0,26091\n",
      "44 also,25963\n",
      "45 000,25376\n",
      "46 kyoto,24698\n",
      "47 but,24567\n",
      "48 had,24489\n",
      "49 imperial,24418\n",
      "50 clan,23029\n",
      "51 not,22956\n",
      "52 there,21279\n",
      "53 japan,20882\n",
      "54 province,20735\n",
      "55 japanese,20413\n",
      "56 when,19903\n",
      "57 city,19858\n",
      "58 called,19856\n",
      "59 one,19490\n",
      "60 became,18713\n",
      "61 name,17627\n",
      "62 such,16926\n",
      "63 station,16683\n",
      "64 ;,16430\n",
      "65 however,16324\n",
      "66 they,16079\n",
      "67 been,16017\n",
      "68 prefecture,15691\n",
      "69 used,15675\n",
      "70 have,15176\n",
      "71 during,14910\n",
      "72 time,14048\n",
      "73 -,13745\n",
      "74 other,13541\n",
      "75 their,13512\n",
      "76 first,13491\n",
      "77 court,13358\n",
      "78 shrine,12956\n",
      "79 rank,12917\n",
      "80 government,12893\n",
      "81 into,12529\n",
      "82 son,12346\n",
      "83 made,12151\n",
      "84 its,11920\n",
      "85 people,11914\n",
      "86 because,11802\n",
      "87 school,11796\n",
      "88 has,11756\n",
      "89 line,11704\n",
      "90 year,11620\n",
      "91 edo,11588\n",
      "92 prince,11525\n",
      "93 later,11384\n",
      "94 said,11124\n",
      "95 so,10965\n",
      "96 castle,10641\n",
      "97 fujiwara,10063\n",
      "98 between,9956\n",
      "99 some,9937\n"
     ]
    }
   ],
   "source": [
    "i = 0;\n",
    "for word, count in couts.most_common(100):\n",
    "    print(i, end=\" \")\n",
    "    i+=1\n",
    "    print(\"{0},{1}\".format(word,count))"
   ]
  },
  {
   "cell_type": "code",
   "execution_count": null,
   "metadata": {
    "collapsed": true
   },
   "outputs": [],
   "source": []
  }
 ],
 "metadata": {
  "kernelspec": {
   "display_name": "Python 3",
   "language": "python",
   "name": "python3"
  },
  "language_info": {
   "codemirror_mode": {
    "name": "ipython",
    "version": 3
   },
   "file_extension": ".py",
   "mimetype": "text/x-python",
   "name": "python",
   "nbconvert_exporter": "python",
   "pygments_lexer": "ipython3",
   "version": "3.6.1"
  }
 },
 "nbformat": 4,
 "nbformat_minor": 2
}
